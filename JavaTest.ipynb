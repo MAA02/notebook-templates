{
 "cells": [
  {
   "cell_type": "markdown",
   "id": "f1061c20-5671-4f56-819d-5aa01f6180c6",
   "metadata": {},
   "source": [
    "Hello  -  this is a java notebook\n"
   ]
  },
  {
   "cell_type": "code",
   "execution_count": 4,
   "id": "90c01c47-41db-4e2c-9319-2e5ca2076dc6",
   "metadata": {},
   "outputs": [],
   "source": [
    "public class HelloWorld {\n",
    "    public static void main (String args[]){\n",
    "        System.out.println(\"Hello, world! This is Java.\");\n",
    "    }\n",
    "}"
   ]
  },
  {
   "cell_type": "code",
   "execution_count": 5,
   "id": "aafeaa0b-c357-4c7f-b9a3-cf9bd5a120b5",
   "metadata": {},
   "outputs": [
    {
     "name": "stdout",
     "output_type": "stream",
     "text": [
      "Hello, world! This is Java.\n"
     ]
    }
   ],
   "source": [
    "System.out.println(\"Hello, world! This is Java.\");"
   ]
  }
 ],
 "metadata": {
  "kernelspec": {
   "display_name": "Java",
   "language": "java",
   "name": "java"
  },
  "language_info": {
   "codemirror_mode": "java",
   "file_extension": ".jshell",
   "mimetype": "text/x-java-source",
   "name": "Java",
   "pygments_lexer": "java",
   "version": "21.0.5+11-LTS"
  }
 },
 "nbformat": 4,
 "nbformat_minor": 5
}
